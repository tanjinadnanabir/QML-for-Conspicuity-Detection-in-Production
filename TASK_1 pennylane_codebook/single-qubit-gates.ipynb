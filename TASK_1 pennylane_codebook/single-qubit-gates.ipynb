{
 "cells": [
  {
   "cell_type": "markdown",
   "metadata": {},
   "source": [
    "# PennyLane Codebook - Single Qubit Gates"
   ]
  },
  {
   "cell_type": "markdown",
   "metadata": {},
   "source": [
    "# X and H"
   ]
  },
  {
   "cell_type": "markdown",
   "metadata": {},
   "source": [
    "## Codercise-I.4.1-Flipping Bits"
   ]
  },
  {
   "cell_type": "markdown",
   "metadata": {},
   "source": [
    "A common use of the gate is in initializing the state of a qubit at the beginning of an algorithm. Quite often, we would like our qubits to start in state $\\ket {0}$ (which is the default in PennyLane), however there are many cases where we instead would like to start from\n",
    "Complete the function below by using **qml.PauliX** to initialize the qubit's state to $\\ket {0}$ or $\\ket {1}$ based on an input flag. Then, use **qml.QubitUnitary** to apply the provided unitary **U**."
   ]
  },
  {
   "cell_type": "code",
   "execution_count": 1,
   "metadata": {},
   "outputs": [],
   "source": [
    "import pennylane as qml\n",
    "from pennylane import numpy as np"
   ]
  },
  {
   "cell_type": "code",
   "execution_count": 5,
   "metadata": {},
   "outputs": [
    {
     "name": "stdout",
     "output_type": "stream",
     "text": [
      "0: ──U(M0)─┤  State\n",
      "\n",
      "M0 = \n",
      "[[ 0.70710678  0.70710678]\n",
      " [ 0.70710678 -0.70710678]]\n",
      "0: ──X──U(M0)─┤  State\n",
      "\n",
      "M0 = \n",
      "[[ 0.70710678  0.70710678]\n",
      " [ 0.70710678 -0.70710678]]\n"
     ]
    }
   ],
   "source": [
    "dev = qml.device(\"default.qubit\", wires=1)\n",
    "\n",
    "U = np.array([[1, 1], [1, -1]]) / np.sqrt(2)\n",
    "\n",
    "\n",
    "@qml.qnode(dev)\n",
    "def varied_initial_state(state):\n",
    "    \"\"\"Complete the function such that we can apply the operation U to\n",
    "    either |0> or |1> depending on the input argument flag.\n",
    "\n",
    "    Args:\n",
    "        state (int): Either 0 or 1. If 1, prepare the qubit in state |1>,\n",
    "            otherwise, leave it in state 0.\n",
    "\n",
    "    Returns:\n",
    "        np.array[complex]: The state of the qubit after the operations.\n",
    "    \"\"\"\n",
    "    ##################\n",
    "    # YOUR CODE HERE #\n",
    "    ##################\n",
    "\n",
    "    # KEEP THE QUBIT IN |0> OR CHANGE IT TO |1> DEPENDING ON THE state PARAMETER\n",
    "    if state == 1:\n",
    "        qml.PauliX(0)\n",
    "\n",
    "    # APPLY U TO THE STATE\n",
    "    qml.QubitUnitary(U, wires=0)\n",
    "    # APPLY U TO THE STATE\n",
    "\n",
    "    return qml.state()\n",
    "\n",
    "print(qml.draw(varied_initial_state)(0))\n",
    "print(qml.draw(varied_initial_state)(1))"
   ]
  },
  {
   "cell_type": "markdown",
   "metadata": {},
   "source": [
    "This code will prepare the qubit in the ∣0⟩∣0⟩ or ∣1⟩∣1⟩ state based on the state parameter and then apply the unitary matrix UU to the qubit. The final state of the qubit will be returned as a complex numpy array."
   ]
  },
  {
   "cell_type": "markdown",
   "metadata": {},
   "source": [
    "## Codercise-I.4.2-Uniform Superposition"
   ]
  },
  {
   "cell_type": "markdown",
   "metadata": {},
   "source": [
    "You might have noticed that we've been using this operation a lot:\n",
    "$$U = \\frac{1}{\\sqrt{2}} \\begin{pmatrix} 1 & 1 \\\\ 1 & -1 \\end{pmatrix}$$\n",
    "\n",
    "This is none other than Hadamard gate, and is typically denoted by H. In PennyLane, it is implemented as **qml.Hadamard**.\n",
    "\n",
    "The Hadamard gate is special because it can create a uniform superposition of the two states $\\ket {0}$ and $\\ket {1}$.\n",
    "\n",
    "Many quantum algorithms rely on us being able to create uniform superpositions, so you'll see the Hadamard gate everywhere!\n",
    "\n",
    "Complete the quantum function below such that it:\n",
    "\n",
    "    applies a Hadamard gate to the qubit,\n",
    "    returns the state of the qubit with qml.state.\n"
   ]
  },
  {
   "cell_type": "code",
   "execution_count": 7,
   "metadata": {},
   "outputs": [
    {
     "name": "stdout",
     "output_type": "stream",
     "text": [
      "0: ──H─┤  State\n"
     ]
    }
   ],
   "source": [
    "dev = qml.device(\"default.qubit\", wires=1)\n",
    "\n",
    "@qml.qnode(dev)\n",
    "def apply_hadamard():\n",
    "    ##################\n",
    "    # YOUR CODE HERE #\n",
    "    ##################\n",
    "\n",
    "    # APPLY THE HADAMARD GATE\n",
    "    qml.Hadamard(wires=0)\n",
    "\n",
    "    # RETURN THE STATE\n",
    "    return qml.state()\n",
    "print(qml.draw(apply_hadamard)())"
   ]
  },
  {
   "cell_type": "markdown",
   "metadata": {},
   "source": [
    "This code will apply the Hadamard gate to the qubit and return the resulting state. When the Hadamard gate is applied to the ∣0⟩∣0⟩ state, the resulting state will be a superposition state 12(∣0⟩+∣1⟩)2\n",
    "​1​(∣0⟩+∣1⟩)."
   ]
  },
  {
   "cell_type": "markdown",
   "metadata": {},
   "source": [
    "## Codercise-I.4.3-Combining X and H"
   ]
  },
  {
   "cell_type": "markdown",
   "metadata": {},
   "source": [
    "Combining your code from codercises I.4.1, and I.4.2, apply the Hadamard gate to both\n",
    "$\\ket {0}$ and $\\ket {1}$.What do the two different output states look like? Do you notice anything special about them?"
   ]
  },
  {
   "cell_type": "code",
   "execution_count": 8,
   "metadata": {},
   "outputs": [
    {
     "name": "stdout",
     "output_type": "stream",
     "text": [
      "0: ──H─┤  State\n",
      "0: ──X──H─┤  State\n"
     ]
    }
   ],
   "source": [
    "dev = qml.device(\"default.qubit\", wires=1)\n",
    "\n",
    "\n",
    "@qml.qnode(dev)\n",
    "def apply_hadamard_to_state(state):\n",
    "    \"\"\"Complete the function such that we can apply the Hadamard to\n",
    "    either |0> or |1> depending on the input argument flag.\n",
    "\n",
    "    Args:\n",
    "        state (int): Either 0 or 1. If 1, prepare the qubit in state |1>,\n",
    "            otherwise, leave it in state 0.\n",
    "\n",
    "    Returns:\n",
    "        np.array[complex]: The state of the qubit after the operations.\n",
    "    \"\"\"\n",
    "    ##################\n",
    "    # YOUR CODE HERE #\n",
    "    ##################\n",
    "\n",
    "    # KEEP THE QUBIT IN |0> OR CHANGE IT TO |1> DEPENDING ON state\n",
    "\n",
    "    if(state == 1):\n",
    "        qml.PauliX(0)\n",
    "        \n",
    "    # APPLY THE HADAMARD\n",
    "    qml.Hadamard(0)\n",
    "    \n",
    "    # RETURN THE STATE\n",
    "    return qml.state()\n",
    "\n",
    "print(qml.draw(apply_hadamard_to_state)(0))\n",
    "print(qml.draw(apply_hadamard_to_state)(1))"
   ]
  },
  {
   "cell_type": "markdown",
   "metadata": {},
   "source": [
    "## Codercise-I.4.4-A QNode with X and H"
   ]
  },
  {
   "cell_type": "markdown",
   "metadata": {},
   "source": [
    "Now let's combine what we've just learned. Create a device with one qubit. Then, write a QNode (from scratch!) that applies the following circuit and returns the state.\n",
    "\n",
    "![image_circuit](https://assets.cloud.pennylane.ai/codebook/hxh.svg)\n",
    "\n",
    "Determine its effect on the two basis states. What do you think this operation does?\n",
    "\n",
    "The signature of your function should be:"
   ]
  },
  {
   "cell_type": "code",
   "execution_count": 9,
   "metadata": {},
   "outputs": [
    {
     "name": "stdout",
     "output_type": "stream",
     "text": [
      "[1.+0.j 0.+0.j]\n",
      "[ 0.+0.j -1.+0.j]\n"
     ]
    }
   ],
   "source": [
    "##################\n",
    "# YOUR CODE HERE #\n",
    "##################\n",
    "\n",
    "# CREATE A DEVICE\n",
    "dev = qml.device(\"default.qubit\", wires=1)\n",
    "\n",
    "# CREATE A QNODE CALLED apply_hxh THAT APPLIES THE CIRCUIT ABOVE\n",
    "@qml.qnode(dev)\n",
    "def apply_hxh(state):\n",
    "    if(state == 1):\n",
    "        qml.PauliX(0)\n",
    "    \n",
    "    qml.Hadamard(0)\n",
    "    qml.PauliX(0)\n",
    "    qml.Hadamard(0)\n",
    "    \n",
    "    return qml.state()\n",
    "\n",
    "print(apply_hxh(0))\n",
    "print(apply_hxh(1))"
   ]
  },
  {
   "cell_type": "markdown",
   "metadata": {},
   "source": [
    "# It's Just a Phase"
   ]
  },
  {
   "cell_type": "markdown",
   "metadata": {},
   "source": [
    "## Codercise-I.5.1-The Pauli Z Gate"
   ]
  },
  {
   "cell_type": "markdown",
   "metadata": {},
   "source": [
    "The Pauli $Z$ gate is defined by its action on the computational basis states\n",
    "$\\ket {0} --> \\ket{0}$\n",
    "$\\ket{1}  --> -\\ket{1}$\n",
    "\n",
    "In PennyLane, you can implement it by calling qml.PauliZ. It has the following circuit element:\n",
    "![image](https://assets.cloud.pennylane.ai/codebook/z.svg)\n",
    "\n",
    "\n",
    "Write a QNode that applies **qml.PauliZ** to the $\\ket{+}$ state and returns the state. What state is this? How do the measurement probabilities differ from those of the state $\\ket{+}$ ??"
   ]
  },
  {
   "cell_type": "code",
   "execution_count": 3,
   "metadata": {},
   "outputs": [
    {
     "name": "stdout",
     "output_type": "stream",
     "text": [
      "[ 0.70710678+0.j -0.70710678+0.j]\n"
     ]
    }
   ],
   "source": [
    "dev = qml.device(\"default.qubit\", wires=1)\n",
    "\n",
    "\n",
    "@qml.qnode(dev)\n",
    "def apply_z_to_plus():\n",
    "    \"\"\"Write a circuit that applies PauliZ to the |+> state and returns\n",
    "    the state.\n",
    "\n",
    "    Returns:\n",
    "        np.array[complex]: The state of the qubit after the operations.\n",
    "    \"\"\"\n",
    "\n",
    "    ##################\n",
    "    # YOUR CODE HERE #\n",
    "    ##################\n",
    "\n",
    "    # CREATE THE |+> STATE\n",
    "    qml.Hadamard(0)\n",
    "\n",
    "    # APPLY PAULI Z\n",
    "    qml.PauliZ(0)\n",
    "\n",
    "    # RETURN THE STATE\n",
    "    return qml.state()\n",
    "\n",
    "print(apply_z_to_plus())"
   ]
  },
  {
   "cell_type": "markdown",
   "metadata": {},
   "source": [
    "## Codercise-I.5.2-The Z Rotation"
   ]
  },
  {
   "cell_type": "markdown",
   "metadata": {},
   "source": [
    "In PennyLane, this operation is accessible as **qml.RZ**, which is a parametrized operation, and so we must specify not only a wire, but an angle of rotation:\n",
    "\n",
    "```qml.RZ(angle, wires=wire)```\n",
    "Write a QNode that uses qml.RZ to simulate a **qml.PauliZ** operation and return the state. Apply it to the  state to check your work."
   ]
  },
  {
   "cell_type": "code",
   "execution_count": 7,
   "metadata": {},
   "outputs": [
    {
     "name": "stdout",
     "output_type": "stream",
     "text": [
      "[4.32978028e-17-0.70710678j 4.32978028e-17+0.70710678j]\n"
     ]
    }
   ],
   "source": [
    "dev = qml.device(\"default.qubit\", wires=1)\n",
    "\n",
    "\n",
    "@qml.qnode(dev)\n",
    "def fake_z():\n",
    "    \"\"\"Use RZ to produce the same action as Pauli Z on the |+> state.\n",
    "\n",
    "    Returns:\n",
    "        np.array[complex]: The state of the qubit after the operations.\n",
    "    \"\"\"\n",
    "\n",
    "    ##################\n",
    "    # YOUR CODE HERE #\n",
    "    ##################\n",
    "\n",
    "    # CREATE THE |+> STATE\n",
    "    qml.Hadamard(0)\n",
    "\n",
    "    # APPLY RZ\n",
    "    qml.RZ(np.pi,0)\n",
    "\n",
    "    # RETURN THE STATE\n",
    "    return qml.state()\n",
    "\n",
    "print(fake_z())"
   ]
  },
  {
   "cell_type": "markdown",
   "metadata": {},
   "source": [
    "## Codercise-I.5.3-The S and T Gates"
   ]
  },
  {
   "cell_type": "markdown",
   "metadata": {},
   "source": [
    "The quarter turn  and eighth turn  gates also have their own names: the phase gate, S and the  gate T, respectively.\n",
    "\n",
    "\n",
    "In PennyLane, they are implemented directly as the non-parametrized operations qml.S and qml.T.\n",
    "\n",
    "Adjoints in PennyLane can be computed by applying the qml.adjoint transform to an operation before specifying its parameters and wires. For example,\n",
    "\n",
    "```qml.adjoint(qml.RZ)(omega, wires=0)```\n",
    "performs the same computation as ```qml.RZ(-omega, wires=0)```.\n",
    "\n",
    "With the above in mind, implement the circuit below, using adjoints when necessary, and return the quantum state.\n",
    "![image.png](https://assets.cloud.pennylane.ai/codebook/circuit_153.svg)"
   ]
  },
  {
   "cell_type": "code",
   "execution_count": 8,
   "metadata": {},
   "outputs": [
    {
     "name": "stdout",
     "output_type": "stream",
     "text": [
      "[0.69916673-0.10566872j 0.56910461-0.41966647j]\n"
     ]
    }
   ],
   "source": [
    "dev = qml.device(\"default.qubit\", wires=1)\n",
    "\n",
    "\n",
    "@qml.qnode(dev)\n",
    "def many_rotations():\n",
    "    \"\"\"Implement the circuit depicted above and return the quantum state.\n",
    "\n",
    "    Returns:\n",
    "        np.array[complex]: The state of the qubit after the operations.\n",
    "    \"\"\"\n",
    "\n",
    "    ##################\n",
    "    # YOUR CODE HERE #\n",
    "    ##################\n",
    "\n",
    "    # IMPLEMENT THE CIRCUIT\n",
    "    qml.Hadamard(0)\n",
    "    qml.S(0)\n",
    "    qml.adjoint(qml.T)(0)\n",
    "    qml.RZ(0.3,0)\n",
    "    qml.adjoint(qml.S)(0)\n",
    "    \n",
    "    # RETURN THE STATE\n",
    "    return qml.state()\n",
    "\n",
    "print(many_rotations())"
   ]
  },
  {
   "cell_type": "markdown",
   "metadata": {},
   "source": [
    "# From a Different Angle"
   ]
  },
  {
   "cell_type": "markdown",
   "metadata": {},
   "source": [
    "## Codercise-I.6.1-Applying RX"
   ]
  },
  {
   "cell_type": "markdown",
   "metadata": {},
   "source": [
    "In addition to the $RZ$ rotation, we have also $RX$ and $RY$ rotations. These parametric gates are available in PennyLane as $qml.RX$ and $qml.RY$.\n",
    "\n",
    "Write a QNode that applies $qml.RX$ with an angle of  to one of the computational basis states. What operation is this?"
   ]
  },
  {
   "cell_type": "code",
   "execution_count": 9,
   "metadata": {},
   "outputs": [
    {
     "name": "stdout",
     "output_type": "stream",
     "text": [
      "[6.123234e-17+0.j 0.000000e+00-1.j]\n",
      "[0.000000e+00-1.j 6.123234e-17+0.j]\n"
     ]
    },
    {
     "name": "stderr",
     "output_type": "stream",
     "text": [
      "<>:6: SyntaxWarning: invalid escape sequence '\\p'\n",
      "<>:6: SyntaxWarning: invalid escape sequence '\\p'\n",
      "/tmp/ipykernel_48666/2309366135.py:6: SyntaxWarning: invalid escape sequence '\\p'\n",
      "  \"\"\"Apply an RX gate with an angle of \\pi to a particular basis state.\n"
     ]
    }
   ],
   "source": [
    "dev = qml.device(\"default.qubit\", wires=1)\n",
    "\n",
    "\n",
    "@qml.qnode(dev)\n",
    "def apply_rx_pi(state):\n",
    "    \"\"\"Apply an RX gate with an angle of \\pi to a particular basis state.\n",
    "\n",
    "    Args:\n",
    "        state (int): Either 0 or 1. If 1, initialize the qubit to state |1>\n",
    "            before applying other operations.\n",
    "\n",
    "    Returns:\n",
    "        np.array[complex]: The state of the qubit after the operations.\n",
    "    \"\"\"\n",
    "    if state == 1:\n",
    "        qml.PauliX(wires=0)\n",
    "\n",
    "    ##################\n",
    "    # YOUR CODE HERE #\n",
    "    ##################\n",
    "\n",
    "    # APPLY RX(pi) AND RETURN THE STATE\n",
    "    qml.RX(np.pi,0)\n",
    "    return qml.state()\n",
    "\n",
    "print(apply_rx_pi(0))\n",
    "print(apply_rx_pi(1))"
   ]
  },
  {
   "cell_type": "markdown",
   "metadata": {},
   "source": [
    "## Codercise-I.6.2-Plotting RX  "
   ]
  },
  {
   "cell_type": "markdown",
   "metadata": {},
   "source": [
    "In the previous exercise, you should have noticed that for this special case,  up to a global phase of $-i$ But what does $RX$ do more generally?\n",
    "\n",
    "The matrix representation of $RX$ is\n",
    "$$\n",
    "R_X(\\theta) = \\begin{pmatrix}\n",
    "\\cos\\left(\\frac{\\theta}{2}\\right) & -i\\sin\\left(\\frac{\\theta}{2}\\right) \\\\\n",
    "-i\\sin\\left(\\frac{\\theta}{2}\\right) & \\cos\\left(\\frac{\\theta}{2}\\right)\n",
    "\\end{pmatrix}\n",
    "$$\n",
    "\n",
    "How does this affect the amplitudes when we apply it to a quantum state? Implement a QNode that applies the qml.RX operation with parameter $\\theta$ to a specified basis state. Then, run the code to plot the amplitudes of the $\\ket{0}$ and $\\ket{1}$ after applying $RZ(\\theta)$ to the $\\ket{0}$ state."
   ]
  },
  {
   "cell_type": "code",
   "execution_count": 14,
   "metadata": {},
   "outputs": [
    {
     "data": {
      "image/png": "[encoded data removed]",
      "text/plain": [
       "<Figure size 1000x600 with 1 Axes>"
      ]
     },
     "metadata": {},
     "output_type": "display_data"
    }
   ],
   "source": [
    "import matplotlib.pyplot as plt\n",
    "dev = qml.device(\"default.qubit\", wires=1)\n",
    "\n",
    "\n",
    "@qml.qnode(dev)\n",
    "def apply_rx(theta, state):\n",
    "    \"\"\"Apply an RX gate with an angle of theta to a particular basis state.\n",
    "\n",
    "    Args:\n",
    "        theta (float): A rotation angle.\n",
    "        state (int): Either 0 or 1. If 1, initialize the qubit to state |1>\n",
    "            before applying other operations.\n",
    "\n",
    "    Returns:\n",
    "        np.array[complex]: The state of the qubit after the operations.\n",
    "    \"\"\"\n",
    "    if state == 1:\n",
    "        qml.PauliX(wires=0)\n",
    "\n",
    "    ##################\n",
    "    # YOUR CODE HERE #\n",
    "    ##################\n",
    "\n",
    "    # APPLY RX(theta) AND RETURN THE STATE\n",
    "    qml.RX(theta,0)\n",
    "    return qml.state()\n",
    "\n",
    "# Define the plotter function\n",
    "def plotter(angles, output_states):\n",
    "    plt.figure(figsize=(10, 6))\n",
    "    \n",
    "    # Plot the real and imaginary parts of the state vector components\n",
    "    for i in range(output_states.shape[1]):\n",
    "        plt.plot(angles, np.real(output_states[:, i]), label=f'Real part of state {i}')\n",
    "        plt.plot(angles, np.imag(output_states[:, i]), '--', label=f'Imag part of state {i}')\n",
    "    \n",
    "    plt.xlabel('Angle (rad)')\n",
    "    plt.ylabel('State vector component')\n",
    "    plt.title('State vector components after RX rotation')\n",
    "    plt.legend()\n",
    "    plt.grid(True)\n",
    "    plt.show()\n",
    "\n",
    "# Code for plotting\n",
    "angles = np.linspace(0, 4 * np.pi, 200)\n",
    "output_states = np.array([apply_rx(t, 0) for t in angles])\n",
    "\n",
    "plot = plotter(angles, output_states)"
   ]
  },
  {
   "cell_type": "markdown",
   "metadata": {},
   "source": [
    "## Codercise-I.6.3-Plotting RY"
   ]
  },
  {
   "cell_type": "markdown",
   "metadata": {},
   "source": [
    "Repeat the above exercise, but using qml.RY. From the amplitudes you obtain for $RY(\\theta) \\ket{0}$ can you start deducing the matrix form of $RY$ ??"
   ]
  },
  {
   "cell_type": "code",
   "execution_count": 13,
   "metadata": {},
   "outputs": [
    {
     "data": {
      "image/png": "[encoded data removed]",
      "text/plain": [
       "<Figure size 1000x600 with 1 Axes>"
      ]
     },
     "metadata": {},
     "output_type": "display_data"
    }
   ],
   "source": [
    "import matplotlib.pyplot as plt\n",
    "dev = qml.device(\"default.qubit\", wires=1)\n",
    "\n",
    "\n",
    "@qml.qnode(dev)\n",
    "def apply_ry(theta, state):\n",
    "    \"\"\"Apply an RY gate with an angle of theta to a particular basis state.\n",
    "\n",
    "    Args:\n",
    "        theta (float): A rotation angle.\n",
    "        state (int): Either 0 or 1. If 1, initialize the qubit to state |1>\n",
    "            before applying other operations.\n",
    "\n",
    "    Returns:\n",
    "        np.array[complex]: The state of the qubit after the operations.\n",
    "    \"\"\"\n",
    "    if state == 1:\n",
    "        qml.PauliX(wires=0)\n",
    "\n",
    "    ##################\n",
    "    # YOUR CODE HERE #\n",
    "    ##################\n",
    "\n",
    "    # APPLY RY(theta) AND RETURN THE STATE\n",
    "    qml.RY(theta,0)\n",
    "    return qml.state()\n",
    "\n",
    "# Define the plotter function\n",
    "def plotter(angles, output_states):\n",
    "    plt.figure(figsize=(10, 6))\n",
    "    \n",
    "    # Plot the real and imaginary parts of the state vector components\n",
    "    for i in range(output_states.shape[1]):\n",
    "        plt.plot(angles, np.real(output_states[:, i]), label=f'Real part of state {i}')\n",
    "        plt.plot(angles, np.imag(output_states[:, i]), '--', label=f'Imag part of state {i}')\n",
    "    \n",
    "    plt.xlabel('Angle (rad)')\n",
    "    plt.ylabel('State vector component')\n",
    "    plt.title('State vector components after RX rotation')\n",
    "    plt.legend()\n",
    "    plt.grid(True)\n",
    "    plt.show()\n",
    "\n",
    "\n",
    "# Code for plotting\n",
    "angles = np.linspace(0, 4 * np.pi, 200)\n",
    "output_states = np.array([apply_ry(t, 0) for t in angles])\n",
    "\n",
    "plot = plotter(angles, output_states)"
   ]
  },
  {
   "cell_type": "markdown",
   "metadata": {},
   "source": [
    "# Universal Gate Sets"
   ]
  },
  {
   "cell_type": "markdown",
   "metadata": {},
   "source": [
    "## Codercise-I.7.1-Universality of Rotations"
   ]
  },
  {
   "cell_type": "markdown",
   "metadata": {},
   "source": [
    "In Codercise I.3.2, you were introduced to the most general single-qubit unitary, which is implemented in PennyLane as qml.Rot. This Rot gate actually applies a sequence of three operations:\n",
    "```\n",
    "def decomposed_rot(phi, theta, omega):\n",
    "    qml.RZ(phi, wires=0)\n",
    "    qml.RY(theta, wires=0)\n",
    "    qml.RZ(omega, wires=0)\n",
    "```\n",
    "Even though Rot is the most general single-qubit operation, under the hood it's just $RZ$ and RY gates! This means that, together, RZ and RY form a universal gate set for single-qubit operations (as do $RZ$ and $RX$, or $RY$ and $RX$)\n",
    "\n",
    "Can you find a set of angles ```phi, theta, omega``` such that the sequence of gates\n",
    "```\n",
    "    qml.RZ(phi, wires=0)\n",
    "    qml.RX(theta, wires=0)\n",
    "    qml.RZ(omega, wires=0)\n",
    "```\n",
    "acts the same as a Hadamard gate (up to a global phase)?"
   ]
  },
  {
   "cell_type": "code",
   "execution_count": 16,
   "metadata": {},
   "outputs": [
    {
     "name": "stdout",
     "output_type": "stream",
     "text": [
      "[1.11022302e-16-0.70710678j 0.00000000e+00-0.70710678j]\n"
     ]
    }
   ],
   "source": [
    "dev = qml.device(\"default.qubit\", wires=1)\n",
    "\n",
    "##################\n",
    "# YOUR CODE HERE #\n",
    "##################\n",
    "\n",
    "# ADJUST THE VALUES OF PHI, THETA, AND OMEGA\n",
    "phi, theta, omega = np.pi/2, np.pi/2, np.pi/2\n",
    "\n",
    "\n",
    "@qml.qnode(dev)\n",
    "def hadamard_with_rz_rx():\n",
    "    qml.RZ(phi, 0)\n",
    "    qml.RX(theta, 0)\n",
    "    qml.RZ(omega, 0)\n",
    "    \n",
    "    return qml.state()\n",
    "\n",
    "print(hadamard_with_rz_rx())"
   ]
  },
  {
   "cell_type": "markdown",
   "metadata": {},
   "source": [
    "## Codercise-I.7.2-Synthesizing a Circuit"
   ]
  },
  {
   "cell_type": "markdown",
   "metadata": {},
   "source": [
    "Rewrite the following circuit over the gate set $[RZ, RX]$ (recall that it is okay for your circuit to work up to a global phase). What is the minimum number of such gates needed to do so?\n",
    "\n",
    "<img src=\"https://assets.cloud.pennylane.ai/codebook/circuit_i-7-2.svg\" alt=\"Circuit Image\" width=\"400\" height=\"200\"/>"
   ]
  },
  {
   "cell_type": "code",
   "execution_count": 20,
   "metadata": {},
   "outputs": [
    {
     "name": "stdout",
     "output_type": "stream",
     "text": [
      "[-0.27059805+0.65328148j -0.27059805-0.65328148j]\n"
     ]
    }
   ],
   "source": [
    "dev = qml.device(\"default.qubit\", wires=1)\n",
    "\n",
    "\n",
    "@qml.qnode(dev)\n",
    "def convert_to_rz_rx():\n",
    "    ##################\n",
    "    # YOUR CODE HERE #\n",
    "    ##################\n",
    "\n",
    "    # IMPLEMENT THE CIRCUIT IN THE PICTURE USING ONLY RZ AND RX\n",
    "    qml.RZ(np.pi/2, 0)\n",
    "    qml.RX(np.pi/2, 0)\n",
    "    qml.RZ(np.pi/2, 0)\n",
    "    qml.RZ(np.pi/2, 0)\n",
    "    qml.RZ(-np.pi/4, 0)\n",
    "    qml.RX(np.pi, 0)\n",
    "    qml.RZ(np.pi, 0)\n",
    "    \n",
    "    return qml.state()\n",
    "print(convert_to_rz_rx())"
   ]
  },
  {
   "cell_type": "markdown",
   "metadata": {},
   "source": [
    "## Codercise-I.7.3-Universality of H and T"
   ]
  },
  {
   "cell_type": "markdown",
   "metadata": {},
   "source": [
    "The two gates H and T are also a **universal gate set**. By combining just these two gates, we can approximate to arbitrary precision any single-qubit operation (just like we can do with $RZ$ and $RY$ )! Write a PennyLane circuit that applies the unitary matrix ---"
   ]
  },
  {
   "cell_type": "markdown",
   "metadata": {},
   "source": [
    "This process is called quantum circuit synthesis and is part of the broader subject of quantum compilation. As you will no doubt appreciate after working out this small exercise, designing high-quality, automated compilation tools is an active area of research."
   ]
  },
  {
   "cell_type": "code",
   "execution_count": 18,
   "metadata": {},
   "outputs": [
    {
     "name": "stdout",
     "output_type": "stream",
     "text": [
      "[0.85355339+0.35355339j 0.35355339+0.14644661j]\n"
     ]
    }
   ],
   "source": [
    "dev = qml.device(\"default.qubit\", wires=1)\n",
    "\n",
    "\n",
    "@qml.qnode(dev)\n",
    "def unitary_with_h_and_t():\n",
    "    ##################\n",
    "    # YOUR CODE HERE #\n",
    "    ##################\n",
    "\n",
    "    # APPLY ONLY H AND T TO PRODUCE A CIRCUIT THAT EFFECTS THE GIVEN MATRIX\n",
    "    qml.Hadamard(0)\n",
    "    qml.T(0)\n",
    "    qml.Hadamard(0)\n",
    "    qml.T(0)\n",
    "    qml.T(0)\n",
    "    qml.Hadamard(0)\n",
    "\n",
    "    return qml.state()\n",
    "\n",
    "print(unitary_with_h_and_t())"
   ]
  },
  {
   "cell_type": "markdown",
   "metadata": {},
   "source": [
    "# Prepare Yourself"
   ]
  },
  {
   "cell_type": "markdown",
   "metadata": {},
   "source": [
    "## Codercise-I.8.1-State Preparation"
   ]
  },
  {
   "cell_type": "markdown",
   "metadata": {},
   "source": [
    "Now that you've learned all about single-qubit gates, you have the tools to perform arbitrary quantum state preparation of a single qubit! State preparation takes place at the start of many algorithms. Given a target state we would like the qubit to be in, we need to figure out the sequence of operations that, acting on $\\ket {0}$,  produces the desired state. Furthermore, we ideally want this sequence of operations to be as small as possible.\n",
    "\n",
    "For this codercise, you will be asked to write a circuit that prepares the quantum state\n",
    "$$\n",
    "| \\psi \\rangle = \\frac{1}{\\sqrt{2}} |0 \\rangle + \\frac{1}{\\sqrt{2}} e^{\\frac{5}{4} i \\pi} |1 \\rangle\n",
    "\\\n",
    "$$\n",
    "\n",
    "up to a global phase using as few gates as possible."
   ]
  },
  {
   "cell_type": "code",
   "execution_count": 7,
   "metadata": {},
   "outputs": [],
   "source": [
    "dev = qml.device(\"default.qubit\", wires=1)\n",
    "\n",
    "\n",
    "@qml.qnode(dev)\n",
    "def prepare_state():\n",
    "    ##################\n",
    "    # YOUR CODE HERE #\n",
    "    ##################\n",
    "\n",
    "    # APPLY OPERATIONS TO PREPARE THE TARGET STATE\n",
    "    qml.Hadamard(0)\n",
    "    qml.RZ(5*np.pi/4, 0)\n",
    "\n",
    "    return qml.state()"
   ]
  },
  {
   "cell_type": "markdown",
   "metadata": {},
   "source": [
    "## Codercise-I.8.2-State Preparation Revisited"
   ]
  },
  {
   "cell_type": "markdown",
   "metadata": {},
   "source": [
    "Let's have another try. Write a circuit that prepares the quantum state\n",
    "$$\n",
    "| \\psi \\rangle = \\frac{\\sqrt{3}}{2} |0 \\rangle - i \\frac{1}{2} |1 \\rangle\n",
    "$$\n",
    "up to a global phase using as few gates as possible."
   ]
  },
  {
   "cell_type": "code",
   "execution_count": null,
   "metadata": {},
   "outputs": [],
   "source": [
    "dev = qml.device(\"default.qubit\", wires=1)\n",
    "\n",
    "\n",
    "@qml.qnode(dev)\n",
    "def prepare_state():\n",
    "    ##################\n",
    "    # YOUR CODE HERE #\n",
    "    ##################\n",
    "\n",
    "    # APPLY OPERATIONS TO PREPARE THE TARGET STATE\n",
    "    qml.RX(np.pi/3, 0)\n",
    "\n",
    "    return qml.state()"
   ]
  },
  {
   "cell_type": "markdown",
   "metadata": {},
   "source": [
    "## Codercise-I.8.3-State Preparation with Mottonen's Method"
   ]
  },
  {
   "cell_type": "markdown",
   "metadata": {},
   "source": [
    "Having done this manually a few times, you might wonder whether there are any automated tools to perform such state preparation. PennyLane contains a library of templates, some of which perform state preparation. Templates are subroutines that can be used in quantum circuits just like any other gate:\n",
    "```\n",
    "def my_circuit():\n",
    "    qml.MyTemplate(parameters, wires)\n",
    "```\n",
    "PennyLane contains a template called **MottonenStatePreparation**, which will automatically prepare any normalized qubit state vector, up to a global phase. You need only pass the template a normalized state vector, and a set of wires. This is especially convenient for multi-qubit systems, where it would be challenging to find state preparation circuits by hand.\n",
    "\n",
    "For this codercise, write a QNode that uses **qml.MottonenStatePreparation** to prepare the state\n",
    "$$| \\psi \\rangle = (0.52889389 - 0.149567751i) |0\\rangle + (0.67262317 + 0.49545818i) |1\\rangle$$\n",
    "Return the state of the system. In addition, we'll print the circuit using **qml.draw** to investigate which operations were actually used under the hood."
   ]
  },
  {
   "cell_type": "code",
   "execution_count": 23,
   "metadata": {},
   "outputs": [
    {
     "name": "stdout",
     "output_type": "stream",
     "text": [
      "[0.52889389-0.14956775j 0.67262317+0.49545818j]\n",
      "0: ──RY(1.98)──RZ(0.91)──GlobalPhase(-0.18)─┤  State\n"
     ]
    }
   ],
   "source": [
    "v = np.array([0.52889389 - 0.14956775j, 0.67262317 + 0.49545818j])\n",
    "\n",
    "##################\n",
    "# YOUR CODE HERE #\n",
    "##################\n",
    "\n",
    "# CREATE A DEVICE\n",
    "dev = qml.device(\"default.qubit\", wires=1)\n",
    "@qml.qnode(dev)\n",
    "\n",
    "# CONSTRUCT A QNODE THAT USES qml.MottonenStatePreparation\n",
    "# TO PREPARE A QUBIT IN STATE V, AND RETURN THE STATE\n",
    "\n",
    "def prepare_state(state=v):\n",
    "    qml.MottonenStatePreparation(v, 0)\n",
    "    return qml.state()\n",
    "\n",
    "\n",
    "# This will draw the quantum circuit and allow you to inspect the output gates\n",
    "print(prepare_state(v))\n",
    "print(qml.draw(prepare_state, expansion_strategy=\"device\")(v))"
   ]
  },
  {
   "cell_type": "markdown",
   "metadata": {},
   "source": [
    "# Measurements"
   ]
  },
  {
   "cell_type": "markdown",
   "metadata": {},
   "source": [
    "## Codercise-I.9.1-Measuring a Superposition"
   ]
  },
  {
   "cell_type": "markdown",
   "metadata": {},
   "source": [
    "So far, we've learned that the different outcome probabilities are related to the amplitudes of a qubit's state vector. If no measurement basis is specified, you can generally assume that measurement is done in the computational basis; this is the default in PennyLane.\n",
    "\n",
    "Outcome probabilities of the basis states can be returned directly in PennyLane. Rather than putting\n",
    "\n",
    "```return qml.state()```\n",
    "at the end of our QNodes, we can swap it out for\n",
    "\n",
    "```return qml.probs(wires=...)```\n",
    "Note that we must explicitly specify the wire labels of the qubits we would like to measure.\n",
    "\n",
    "For this codercise, you will be asked to write a simple circuit that applies a Hadamard gate to either $\\ket {0}$ or $\\ket {1}$ and returns the measurement outcome probabilities. What do you notice about these probabilities?"
   ]
  },
  {
   "cell_type": "code",
   "execution_count": 24,
   "metadata": {},
   "outputs": [
    {
     "name": "stdout",
     "output_type": "stream",
     "text": [
      "[0.5 0.5]\n",
      "[0.5 0.5]\n"
     ]
    }
   ],
   "source": [
    "dev = qml.device(\"default.qubit\", wires=1)\n",
    "\n",
    "\n",
    "@qml.qnode(dev)\n",
    "def apply_h_and_measure(state):\n",
    "    \"\"\"Complete the function such that we apply the Hadamard gate\n",
    "    and measure in the computational basis.\n",
    "\n",
    "    Args:\n",
    "        state (int): Either 0 or 1. If 1, prepare the qubit in state |1>,\n",
    "            otherwise leave it in state 0.\n",
    "\n",
    "    Returns:\n",
    "        np.array[float]: The measurement outcome probabilities.\n",
    "    \"\"\"\n",
    "    if state == 1:\n",
    "        qml.PauliX(wires=0)\n",
    "\n",
    "    ##################\n",
    "    # YOUR CODE HERE #\n",
    "    ##################\n",
    "\n",
    "    # APPLY HADAMARD AND MEASURE\n",
    "    qml.Hadamard(0)\n",
    "    return qml.probs(0)\n",
    "\n",
    "\n",
    "print(apply_h_and_measure(0))\n",
    "print(apply_h_and_measure(1))"
   ]
  },
  {
   "cell_type": "markdown",
   "metadata": {},
   "source": [
    "## Codercise-I.9.2-Y Basis Rotation"
   ]
  },
  {
   "cell_type": "markdown",
   "metadata": {},
   "source": [
    "Suppose we have prepared the state\n",
    "$$|\\psi \\rangle = \\frac{1}{2} |0 \\rangle + i \\frac{\\sqrt{3}}{2} |1 \\rangle$$\n",
    "and want to make a measurement in the basis\n",
    "$$| y^+ \\rangle = \\frac{1}{\\sqrt{2}} (|0 \\rangle + i|1 \\rangle)\n",
    "\\\\\n",
    "| y^- \\rangle = \\frac{1}{\\sqrt{2}} (|0 \\rangle - i|1 \\rangle)\n",
    "$$\n",
    "First, implement a quantum function **prepare_psi** that prepares the state $\\ket {\\psi}$ Then, determine how to prepare the two basis states $\\ket {y^+}$ and $\\ket {y^-}$  from $\\ket {0}$ and $\\ket {1}$ respectively. Implement this as a second quantum function, **y_basis_rotation**. Note that the two functions should not return any values; we will use them as subroutines in a QNode in the next exercise.\n",
    "\n",
    "Tip. The states $\\ket {y^+}$ and $\\ket {y^+}$ are given these labels because they are the eigenvectors of the Pauli  operation."
   ]
  },
  {
   "cell_type": "code",
   "execution_count": 32,
   "metadata": {},
   "outputs": [
    {
     "name": "stdout",
     "output_type": "stream",
     "text": [
      "[0.5 0.5]\n"
     ]
    }
   ],
   "source": [
    "##################\n",
    "# YOUR CODE HERE #\n",
    "##################\n",
    "dev = qml.device(\"default.qubit\", wires=1)\n",
    "@qml.qnode(dev)\n",
    "def prepare_and_rotate():\n",
    "    # Prepare the desired state\n",
    "    prepare_psi()\n",
    "    \n",
    "    # Rotate to the Y-basis\n",
    "    y_basis_rotation()\n",
    "    \n",
    "    # Return the state\n",
    "    return qml.state()\n",
    "\n",
    "# WRITE A QUANTUM FUNCTION THAT PREPARES (1/2)|0> + i(sqrt(3)/2)|1>\n",
    "def prepare_psi():\n",
    "    qml.RY(2 * np.arctan(np.sqrt(3)), wires=0)\n",
    "    qml.RZ(np.pi / 2, wires=0)\n",
    "\n",
    "\n",
    "# WRITE A QUANTUM FUNCTION THAT SENDS BOTH |0> TO |y_+> and |1> TO |y_->\n",
    "def y_basis_rotation():\n",
    "    qml.Hadamard(0)\n",
    "    qml.S(0)\n",
    "\n",
    "\n",
    "print(prepare_and_measure())\n"
   ]
  },
  {
   "cell_type": "markdown",
   "metadata": {},
   "source": [
    "## Codercise-I.9.3-Measurement in the Y Basis"
   ]
  },
  {
   "cell_type": "markdown",
   "metadata": {},
   "source": [
    "Using your quantum function from the previous exercise, perform the basis rotation and return the measurement outcome probabilities.\n",
    "\n",
    "You can call the two functions, **prepare_psi** and **y_basis_rotation**, directly. You do not need to redefine them here."
   ]
  },
  {
   "cell_type": "code",
   "execution_count": 8,
   "metadata": {},
   "outputs": [
    {
     "name": "stdout",
     "output_type": "stream",
     "text": [
      "[0.9330127 0.0669873]\n"
     ]
    }
   ],
   "source": [
    "dev = qml.device(\"default.qubit\", wires=1)\n",
    "\n",
    "@qml.qnode(dev)\n",
    "\n",
    "def measure_in_y_basis():\n",
    "    ##################\n",
    "    # YOUR CODE HERE #\n",
    "    ##################\n",
    "    \n",
    "    # PREPARE THE STATE\n",
    "    prepare_psi()\n",
    "    # PERFORM THE ROTATION BACK TO COMPUTATIONAL BASIS\n",
    "    # y_basis_rotation()\n",
    "    qml.adjoint( y_basis_rotation )()\n",
    "    # RETURN THE MEASUREMENT OUTCOME PROBABILITIES\n",
    "\n",
    "    return qml.probs(wires = 0)\n",
    "\n",
    "\n",
    "# WRITE A QUANTUM FUNCTION THAT PREPARES (1/2)|0> + i(sqrt(3)/2)|1>\n",
    "def prepare_psi():\n",
    "    qml.StatePrep(np.array([1/2, np.sqrt(3)/2*1j]), wires=0)\n",
    "\n",
    "\n",
    "# WRITE A QUANTUM FUNCTION THAT SENDS BOTH |0> TO |y_+> and |1> TO |y_->\n",
    "def y_basis_rotation():\n",
    "    qml.Hadamard(wires=0)\n",
    "    qml.S(wires=0)\n",
    "\n",
    "\n",
    "print(measure_in_y_basis())"
   ]
  },
  {
   "cell_type": "markdown",
   "metadata": {},
   "source": [
    "# What Did You Expect?"
   ]
  },
  {
   "cell_type": "markdown",
   "metadata": {},
   "source": [
    "## Codercise-I.10.1-Measurement of the PauliY Observable"
   ]
  },
  {
   "cell_type": "markdown",
   "metadata": {},
   "source": [
    "To compute expectation values of observables in PennyLane, we can simply replace the qml.probs of the previous sections with **qml.expval** and specify the observable to be measured. Common choices are **qml.PauliX**, **qml.PauliY**, and **qml.PauliZ**. The possible outcomes of measuring any Pauli-based expectation value are either  or  as these are their eigenvalues.\n",
    "\n",
    "To measure an expectation value in PennyLane, we must specify which observable we are measuring, and which wires it acts on. For example, if we wanted to return a measurement of the PauliZ observable acting on a single qubit, we would write -\n",
    "\n",
    "```\n",
    "@qml.qnode(dev)\n",
    "def my_circuit():\n",
    "    # ...    \n",
    "    return qml.expval(qml.PauliZ(wires=0))\n",
    "```\n",
    "\n",
    "Design and run a PennyLane circuit that performs the following, where  indicates measurement of the PauliY observable.\n",
    "\n",
    "<img src=\"https://assets.cloud.pennylane.ai/codebook/exercise_i101.svg\" alt=\"Circuit Image\" width=\"400\" height=\"200\"/>\n",
    "\n",
    "Tip. It is usually more convenient to use the shorthand **qml.PauliZ(0)** when specifying expectation values. Otherwise, the lines of code will get quite long when you get to the multi-qubit case!"
   ]
  },
  {
   "cell_type": "code",
   "execution_count": 9,
   "metadata": {},
   "outputs": [
    {
     "name": "stdout",
     "output_type": "stream",
     "text": [
      "-0.7071067811865471\n"
     ]
    }
   ],
   "source": [
    "dev = qml.device('default.qubit', wires=1)\n",
    "\n",
    "@qml.qnode(dev)\n",
    "def circuit():\n",
    "    ##################\n",
    "    # YOUR CODE HERE #\n",
    "    ##################\n",
    "\n",
    "    # IMPLEMENT THE CIRCUIT IN THE PICTURE AND MEASURE PAULI Y\n",
    "    qml.RX(np.pi/4,wires=0)\n",
    "    qml.Hadamard(wires=0)\n",
    "    qml.PauliZ(wires=0)\n",
    "\n",
    "    return qml.expval(qml.PauliY(0))\n",
    "\n",
    "print(circuit())\n"
   ]
  },
  {
   "cell_type": "markdown",
   "metadata": {},
   "source": [
    "## Codercise-I.10.2-Setting up the Number of Experiment Shots"
   ]
  },
  {
   "cell_type": "markdown",
   "metadata": {},
   "source": [
    "In the previous sections, we computed measurement outcome probabilities and expectation values analytically. Of course, this is impossible to do on hardware. When we run a circuit and take a measurement, we get a single data point that tells us in which state we observed a qubit for a particular run. Since this process is random, in order to get a clearer picture of the statistics we must perform the experiment many, many times. Each time is typically called a shot, or a sample. We can sample from the output distribution in order to estimate expectation values and measurement outcome probabilities in situations where it isn't possible to do so analytically.\n",
    "\n",
    "In PennyLane, the number of shots to take during an experiment is specified upon device construction:\n",
    "\n",
    "dev = qml.device('default.qubit', wires=1, shots=1000)\n",
    "In the code below is a list of possible numbers of shots. For each value, initialize a device, then create a QNode that runs the circuit from the previous exercise (reproduced below for convenience). What happens to the expectation value as you increase the number of shots?\n",
    "<img src=\"https://assets.cloud.pennylane.ai/codebook/exercise_i101.svg\" alt=\"Circuit Image\" width=\"400\" height=\"200\"/>"
   ]
  },
  {
   "cell_type": "code",
   "execution_count": 10,
   "metadata": {},
   "outputs": [
    {
     "name": "stdout",
     "output_type": "stream",
     "text": [
      "[-0.78, -0.704, -0.7108, -0.71076, -0.707014]\n"
     ]
    }
   ],
   "source": [
    "# An array to store your results\n",
    "shot_results = []\n",
    "\n",
    "# Different numbers of shots\n",
    "shot_values = [100, 1000, 10000, 100000, 1000000]\n",
    "\n",
    "for shots in shot_values: \n",
    "    ##################\n",
    "    # YOUR CODE HERE #\n",
    "    ##################\n",
    "\n",
    "    # CREATE A DEVICE, CREATE A QNODE, AND RUN IT\n",
    "    dev = qml.device('default.qubit', wires=1,shots=shots)\n",
    "    @qml.qnode(dev)\n",
    "    def circuit():\n",
    "    # IMPLEMENT THE CIRCUIT IN THE PICTURE AND MEASURE PAULI Y\n",
    "        qml.RX(np.pi/4,wires=0)\n",
    "        qml.Hadamard(wires=0)\n",
    "        qml.PauliZ(wires=0)\n",
    "        return qml.expval(qml.PauliY(0))\n",
    "        \n",
    "    # STORE RESULT IN SHOT_RESULTS ARRAY\n",
    "    shot_results.append(circuit())\n",
    "\n",
    "print(qml.math.unwrap(shot_results))"
   ]
  },
  {
   "cell_type": "markdown",
   "metadata": {},
   "source": [
    "## Codercise-I.10.3-Evaluating the Samples"
   ]
  },
  {
   "cell_type": "markdown",
   "metadata": {},
   "source": [
    "We can use the sample results to compute the expectation value in the same way as we would normally take a weighted average, i.e.,\n",
    "\n",
    "$$\\langle Y \\rangle = \\frac{1 \\times (\\text{number of } 1s) + (-1) \\times (\\text{number of } -1s)}{\\text{number of shots}}$$\n",
    "\n",
    "In PennyLane, we can access samples directly by returning qml.sample rather than qml.expval.\n",
    "```\n",
    "@qml.qnode(dev)\n",
    "def my_circuit():\n",
    "    # ...    \n",
    "    return qml.sample(qml.PauliZ(wires=0))\n",
    "```\n",
    "Using the circuit from earlier, replace the qml.expval measurement with qml.sample. Then, write a function to compute an estimate of the expectation value based on the samples."
   ]
  },
  {
   "cell_type": "code",
   "execution_count": 11,
   "metadata": {},
   "outputs": [
    {
     "name": "stdout",
     "output_type": "stream",
     "text": [
      "-0.70848\n"
     ]
    }
   ],
   "source": [
    "dev = qml.device(\"default.qubit\", wires=1, shots=100000)\n",
    "\n",
    "@qml.qnode(dev)\n",
    "def circuit():\n",
    "    qml.RX(np.pi/4, wires=0)\n",
    "    qml.Hadamard(wires=0)\n",
    "    qml.PauliZ(wires=0)\n",
    "\n",
    "    ##################\n",
    "    # YOUR CODE HERE #\n",
    "    ##################\n",
    "\n",
    "    # RETURN THE MEASUREMENT SAMPLES OF THE CORRECT OBSERVABLE\n",
    "\n",
    "    return qml.sample(qml.PauliY(0))\n",
    "\n",
    "\n",
    "def compute_expval_from_samples(samples):\n",
    "    \"\"\"Compute the expectation value of an observable given a set of \n",
    "    sample outputs. You can assume that there are two possible outcomes,\n",
    "    1 and -1. \n",
    "    \n",
    "    Args: \n",
    "        samples (array[float]): 100000 samples representing the results of\n",
    "            running the above circuit.\n",
    "        \n",
    "    Returns:\n",
    "        float: the expectation value computed based on samples.\n",
    "    \"\"\"\n",
    "\n",
    "    estimated_expval = 0\n",
    "\n",
    "    ##################\n",
    "    # YOUR CODE HERE #\n",
    "    ##################\n",
    "\n",
    "    # USE THE SAMPLES TO ESTIMATE THE EXPECTATION VALUE\n",
    "    \n",
    "    # Soma-se todos os elementos do vetor \n",
    "    for sample in samples:\n",
    "        estimated_expval = estimated_expval + sample\n",
    "    \n",
    "    # Retorna a media ponderada dos valores dos valores \n",
    "    return estimated_expval/100000\n",
    "\n",
    "samples = circuit()\n",
    "print(compute_expval_from_samples(samples))"
   ]
  },
  {
   "cell_type": "markdown",
   "metadata": {},
   "source": [
    "## Codercise-I.10.4-The Variance of Sample Measurements"
   ]
  },
  {
   "cell_type": "markdown",
   "metadata": {},
   "source": [
    "Each time you run the code block in the previous codercise, you'll obtain a different set of samples, and thus a different estimate for the expectation value. An interesting question is, given a certain number of shots, how close should we expect to get?\n",
    "\n",
    "Using the code below as a starting point, explore how the accuracy of the expectation value depends on the number of shots. For example, if we run 100 experiments with 100 shots each, what are the mean and variance of the distribution of expectation values obtained? How does this variance scale with the number of shots?\n",
    "\n",
    "To accomplish this, we will use a very simple circuit that consists of a Hadamard and a measurement of the **qml.PauliZ** observable, which will allow us to directly extract the dependence of the variance on the number of shots. We will plot your results; based on the plot, complete the **variance_scaling** function below to define the relationship between variance and shots."
   ]
  },
  {
   "cell_type": "code",
   "execution_count": 15,
   "metadata": {},
   "outputs": [
    {
     "data": {
      "image/png": "[encoded data removed]",
      "text/plain": [
       "<Figure size 1000x600 with 1 Axes>"
      ]
     },
     "metadata": {},
     "output_type": "display_data"
    }
   ],
   "source": [
    "import matplotlib.pyplot as plt\n",
    "\n",
    "def variance_experiment(n_shots):\n",
    "    \"\"\"Run an experiment to determine the variance in an expectation\n",
    "    value computed with a given number of shots.\n",
    "    \n",
    "    Args:\n",
    "        n_shots (int): The number of shots\n",
    "        \n",
    "    Returns:\n",
    "        float: The variance in expectation value we obtain running the \n",
    "        circuit 100 times with n_shots shots each.\n",
    "    \"\"\"\n",
    "\n",
    "    # To obtain a variance, we run the circuit multiple times at each shot value.\n",
    "    n_trials = 100\n",
    "\n",
    "    ##################\n",
    "    # YOUR CODE HERE #\n",
    "    ##################\n",
    "\n",
    "    # CREATE A DEVICE WITH GIVEN NUMBER OF SHOTS\n",
    "    dev = qml.device(\"default.qubit\", wires=1, shots=n_shots)\n",
    "\n",
    "    # DECORATE THE CIRCUIT BELOW TO CREATE A QNODE\n",
    "    @qml.qnode(dev)\n",
    "    def circuit():\n",
    "        qml.Hadamard(wires=0)\n",
    "        return qml.expval(qml.PauliZ(wires=0))\n",
    "\n",
    "    # RUN THE QNODE N_TRIALS TIMES AND RETURN THE VARIANCE OF THE RESULTS\n",
    "    resultado = 0\n",
    "    resultadoSomaSimples = 0\n",
    "    resultadoSomaQuadrado = 0\n",
    "    for i in range(n_trials):        \n",
    "        # calculando o valor esperado diretamente da definicao de variancia:\n",
    "        # valor_esperado = medias_dos_quadrados - quadrado_da_media \n",
    "        # Em simbolos : sigma² = <X²> - <X>²         \n",
    "        resultado = circuit()\n",
    "        resultadoSomaSimples = resultadoSomaSimples + resultado    \n",
    "        resultadoSomaQuadrado = resultadoSomaQuadrado + resultado**2    \n",
    "    return resultadoSomaQuadrado/n_trials - (resultadoSomaSimples/n_trials)**2\n",
    "\n",
    "    \n",
    "\n",
    "def variance_scaling(n_shots):\n",
    "    \"\"\"Once you have determined how the variance in expectation value scales\n",
    "    with the number of shots, complete this function to programmatically\n",
    "    represent the relationship.\n",
    "    \n",
    "    Args:\n",
    "        n_shots (int): The number of shots\n",
    "        \n",
    "    Returns:\n",
    "        float: The variance in expectation value we expect to see when we run\n",
    "        an experiment with n_shots shots.\n",
    "    \"\"\"\n",
    "\n",
    "    estimated_variance = 0\n",
    "\n",
    "    ##################\n",
    "    # YOUR CODE HERE #\n",
    "    ##################\n",
    "\n",
    "    # ESTIMATE THE VARIANCE BASED ON SHOT NUMBER\n",
    "    # Os pontoa plotados indicam que podemos estimar o valor por um funcao que é inversamente proporcional ao numero de disparos (n_shots)\n",
    "    estimated_variance = 1/n_shots\n",
    "    return estimated_variance\n",
    "\n",
    "# Various numbers of shots; you can change this\n",
    "shot_vals = [10, 20, 40, 100, 200, 400, 1000, 2000, 4000]\n",
    "\n",
    "def plotter(shot_vals, results_experiment, results_scaling):\n",
    "    \"\"\"\n",
    "    Plots the results of an experiment and scaling results against the number of shots.\n",
    "\n",
    "    Args:\n",
    "        shot_vals (list or array): The number of shots used in the experiments.\n",
    "        results_experiment (list or array): The experimental results for each number of shots.\n",
    "        results_scaling (list or array): The scaling results for each number of shots.\n",
    "\n",
    "    Returns:\n",
    "        None\n",
    "    \"\"\"\n",
    "    plt.figure(figsize=(10, 6))\n",
    "    plt.plot(shot_vals, results_experiment, 'o-', label='Experimental Results', color='blue')\n",
    "    plt.plot(shot_vals, results_scaling, 's-', label='Scaling Results', color='red')\n",
    "    \n",
    "    plt.xlabel('Number of Shots')\n",
    "    plt.ylabel('Varience')\n",
    "    plt.title('Varience vs Number of Shots')\n",
    "    plt.legend()\n",
    "    plt.grid(True)\n",
    "    plt.show()\n",
    "\n",
    "# Used to plot your results\n",
    "results_experiment = [variance_experiment(shots) for shots in shot_vals]\n",
    "results_scaling = [variance_scaling(shots) for shots in shot_vals]\n",
    "plot = plotter(shot_vals, results_experiment, results_scaling)"
   ]
  }
 ],
 "metadata": {
  "kernelspec": {
   "display_name": "Python 3",
   "language": "python",
   "name": "python3"
  },
  "language_info": {
   "codemirror_mode": {
    "name": "ipython",
    "version": 3
   },
   "file_extension": ".py",
   "mimetype": "text/x-python",
   "name": "python",
   "nbconvert_exporter": "python",
   "pygments_lexer": "ipython3",
   "version": "3.12.3"
  }
 },
 "nbformat": 4,
 "nbformat_minor": 2
}
