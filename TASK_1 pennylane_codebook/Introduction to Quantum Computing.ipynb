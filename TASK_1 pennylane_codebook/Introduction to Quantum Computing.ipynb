{
 "cells": [
  {
   "cell_type": "markdown",
   "metadata": {},
   "source": [
    "# Introduction to Quantum Computing"
   ]
  },
  {
   "cell_type": "markdown",
   "metadata": {},
   "source": [
    "## All About Qubits"
   ]
  },
  {
   "cell_type": "markdown",
   "metadata": {},
   "source": [
    "### Codercise l.1.1 (Normalizeation of quantum state)"
   ]
  },
  {
   "cell_type": "code",
   "execution_count": 2,
   "metadata": {},
   "outputs": [],
   "source": [
    "import numpy as np\n",
    "import pennylane as qml"
   ]
  },
  {
   "cell_type": "code",
   "execution_count": 3,
   "metadata": {},
   "outputs": [
    {
     "name": "stdout",
     "output_type": "stream",
     "text": [
      "[0.4472136  0.89442719]\n"
     ]
    }
   ],
   "source": [
    "import numpy as np\n",
    "\n",
    "\n",
    "def normalize_state(alpha, beta):\n",
    "    \"\"\"Compute a normalized quantum state given arbitrary amplitudes.\n",
    "\n",
    "    Args:\n",
    "        alpha (complex): The amplitude associated with the |0> state.\n",
    "        beta (complex): The amplitude associated with the |1> state.\n",
    "\n",
    "    Returns:\n",
    "        np.array[complex]: A vector (numpy array) with 2 elements that represents\n",
    "        a normalized quantum state.\n",
    "    \"\"\"\n",
    "    # Compute the norm (magnitude) of the state vector\n",
    "    norm = np.sqrt(np.abs(alpha)**2 + np.abs(beta)**2)\n",
    "\n",
    "    # Normalize the amplitudes\n",
    "    alpha_prime = alpha / norm\n",
    "    beta_prime = beta / norm\n",
    "\n",
    "    # Create and return the normalized state vector\n",
    "    return np.array([alpha_prime, beta_prime])\n",
    "\n",
    "\n",
    "# Example usage\n",
    "alpha = 1 + 1j\n",
    "beta = 1 - 1j\n",
    "normalized_state = normalize_state(alpha, beta)\n",
    "print(normalized_state)"
   ]
  },
  {
   "cell_type": "markdown",
   "metadata": {},
   "source": [
    "$np.abs(alpha)**2$ computes the squared magnitude of alpha.\n",
    "$np.abs(beta)**2$ computes the squared magnitude of beta.\n",
    "$np.sqrt(...)$ computes the square root of the sum of the squared magnitudes of alpha and beta.\n",
    "norm now holds the magnitude of the vector represented by alpha and beta."
   ]
  },
  {
   "cell_type": "markdown",
   "metadata": {},
   "source": [
    "### Codercise l.1.2 (Inner product & orthonormal base)"
   ]
  },
  {
   "cell_type": "markdown",
   "metadata": {},
   "source": [
    "Complete the inner_product function below that computes the inner product between two arbitrary states. Then, use it to verify that |0> and |1> form an orthonormal basis, i.e., the states are normalized and orthogonal."
   ]
  },
  {
   "cell_type": "code",
   "execution_count": 1,
   "metadata": {},
   "outputs": [
    {
     "name": "stdout",
     "output_type": "stream",
     "text": [
      "<0|0> = 1\n",
      "<0|1> = 0\n",
      "<1|0> = 0\n",
      "<1|1> = 1\n"
     ]
    }
   ],
   "source": [
    "import numpy as np\n",
    "def inner_product(state_1, state_2):\n",
    "    \"\"\"Compute the inner product between two states.\n",
    "\n",
    "    Args:\n",
    "        state_1 (np.array[complex]): A normalized quantum state vector\n",
    "        state_2 (np.array[complex]): A second normalized quantum state vector\n",
    "\n",
    "    Returns:\n",
    "        complex: The value of the inner product <state_1 | state_2>.\n",
    "    \"\"\"\n",
    "\n",
    "    # Compute the conjugate of state_1\n",
    "    state_1_conj = np.conj(state_1)\n",
    "\n",
    "    # Compute the element-wise product of state_1_conj and state_2\n",
    "    product = state_1_conj * state_2\n",
    "    # Sum the elements of the product\n",
    "    inner_prod = np.sum(product)\n",
    "    \n",
    "    return inner_prod\n",
    "\n",
    "\n",
    "# Test your results with this code\n",
    "ket_0 = np.array([1, 0])\n",
    "ket_1 = np.array([0, 1])\n",
    "\n",
    "print(f\"<0|0> = {inner_product(ket_0, ket_0)}\")\n",
    "print(f\"<0|1> = {inner_product(ket_0, ket_1)}\")\n",
    "print(f\"<1|0> = {inner_product(ket_1, ket_0)}\")\n",
    "print(f\"<1|1> = {inner_product(ket_1, ket_1)}\")\n"
   ]
  },
  {
   "cell_type": "markdown",
   "metadata": {},
   "source": [
    "### Codercise I.1.3 — Sampling measurement outcomes"
   ]
  },
  {
   "cell_type": "code",
   "execution_count": 21,
   "metadata": {},
   "outputs": [
    {
     "data": {
      "text/plain": [
       "array([0, 1, 0, 1, 0, 0, 0, 0, 0, 0])"
      ]
     },
     "execution_count": 21,
     "metadata": {},
     "output_type": "execute_result"
    }
   ],
   "source": [
    "def measure_state(state, num_meas):\n",
    "    \"\"\"Simulate a quantum measurement process.\n",
    "\n",
    "    Args:\n",
    "        state (np.array[complex]): A normalized qubit state vector.\n",
    "        num_meas (int): The number of measurements to take\n",
    "\n",
    "    Returns:\n",
    "        np.array[int]: A set of num_meas samples, 0 or 1, chosen according to the probability\n",
    "        distribution defined by the input state.\n",
    "    \"\"\"\n",
    "\n",
    "    # Compute the measurement outcome probabilities\n",
    "    prob_0 = np.abs(state[0])**2\n",
    "    prob_1 = np.abs(state[1])**2\n",
    "\n",
    "  # Generate random numbers for each measurement\n",
    "    random_numbers = np.random.rand(num_meas)\n",
    "\n",
    "  # Determine the measurement outcomes based on probabilities\n",
    "    measurements = np.where(random_numbers <= prob_0, 0, 1)\n",
    "\n",
    "    return measurements\n",
    "    pass\n",
    "\n",
    "state = np.array([0.8, 0.6])\n",
    "measure_state(state, 10)"
   ]
  },
  {
   "cell_type": "markdown",
   "metadata": {},
   "source": [
    "### Codercise I.1.4 — Applying a quantum operation"
   ]
  },
  {
   "cell_type": "code",
   "execution_count": 24,
   "metadata": {},
   "outputs": [
    {
     "name": "stdout",
     "output_type": "stream",
     "text": [
      "Output state: [[0.70710678]\n",
      " [0.70710678]]\n",
      "[[1]\n",
      " [0]]\n"
     ]
    }
   ],
   "source": [
    "import numpy as np\n",
    "\n",
    "U = np.array([[1, 1], [1, -1]]) / np.sqrt(2)\n",
    "\n",
    "def apply_u(state):\n",
    "    \"\"\"Apply a quantum operation.\n",
    "\n",
    "    Args:\n",
    "        state (np.array[complex]): A normalized quantum state vector.\n",
    "\n",
    "    Returns:\n",
    "        np.array[complex]: The output state after applying U.\n",
    "    \"\"\"\n",
    "    # # Ensure the state is a column vector\n",
    "    # state = state.reshape(-1, 1)\n",
    "    \n",
    "    # Apply the unitary matrix U to the input state\n",
    "    new_state = np.dot(U, state.reshape(-1, 1))\n",
    "    \n",
    "    return new_state\n",
    "\n",
    "# Example usage\n",
    "initial_state = np.array([1, 0])  # |0⟩ state\n",
    "output_state = apply_u(initial_state)\n",
    "print(\"Output state:\", output_state)"
   ]
  },
  {
   "cell_type": "markdown",
   "metadata": {},
   "source": [
    "## Quantum Circuits"
   ]
  },
  {
   "cell_type": "markdown",
   "metadata": {},
   "source": [
    "### Codercise I.2.1 — Order of operations"
   ]
  },
  {
   "cell_type": "markdown",
   "metadata": {},
   "source": [
    "The code below is a quantum function with all the gates from the circuit shown below. However, the gates are out of order! Re-arrange the lines of the function to match the order of operations in the circuit.  \n",
    "\n",
    "![image.png](https://assets.cloud.pennylane.ai/codebook/circuit_i-2-1.svg)"
   ]
  },
  {
   "cell_type": "code",
   "execution_count": 15,
   "metadata": {},
   "outputs": [],
   "source": [
    "import numpy as np\n",
    "import pennylane as qml\n",
    "\n",
    "dev = qml.device(\"default.qubit\", wires=3)\n",
    "@qml.qnode(dev)\n",
    "def my_circuit(theta, phi):\n",
    "    ##################\n",
    "    # YOUR CODE HERE #\n",
    "    ##################\n",
    "\n",
    "    # REORDER THESE 5 GATES TO MATCH THE CIRCUIT IN THE PICTURE\n",
    "\n",
    "    qml.CNOT(wires=[0, 1])\n",
    "    qml.RX(theta, wires=2)\n",
    "    qml.Hadamard(wires=0)\n",
    "    qml.CNOT(wires=[2, 0])\n",
    "    qml.RY(phi, wires=1)\n",
    "\n",
    "    # This is the measurement; we return the probabilities of all possible output states\n",
    "    # You'll learn more about what types of measurements are available in a later node\n",
    "    return qml.probs(wires=[0, 1, 2])\n"
   ]
  },
  {
   "cell_type": "code",
   "execution_count": 17,
   "metadata": {},
   "outputs": [
    {
     "name": "stdout",
     "output_type": "stream",
     "text": [
      "0: ─╭●─────────H─╭X───────────┤ ╭Probs\n",
      "1: ─╰X───────────│───RY(0.10)─┤ ├Probs\n",
      "2: ──RX(0.30)────╰●───────────┤ ╰Probs\n"
     ]
    }
   ],
   "source": [
    "\n",
    "drawer = qml.draw(my_circuit)\n",
    "print(drawer(0.3, 0.1))"
   ]
  },
  {
   "cell_type": "markdown",
   "metadata": {},
   "source": [
    "### Codercise I.2.2 — Building a QNode"
   ]
  },
  {
   "cell_type": "markdown",
   "metadata": {},
   "source": [
    "Recall that one way in which we can turn our quantum circuits into QNodes is via the qml.QNode function:\n",
    "\n",
    "my_qnode = qml.QNode(my_circuit, my_device)\n",
    "\n",
    "Once a QNode is created, it can be called like a function using the same parameters as the quantum function upon which it's built.\n",
    "\n",
    "Complete the quantum function in the PennyLane code below to implement the following quantum circuit. Then, construct a QNode using qml.QNode and run the circuit on the provided device.\n",
    "\n",
    "![images](https://assets.cloud.pennylane.ai/codebook/circuit_i-2-2.svg)"
   ]
  },
  {
   "cell_type": "code",
   "execution_count": 54,
   "metadata": {},
   "outputs": [],
   "source": [
    "# This creates a device with three wires on which PennyLane can run computations\n",
    "dev = qml.device(\"default.qubit\", wires=3)\n",
    "\n",
    "@qml.qnode(dev)\n",
    "def my_circuit(theta, phi, omega):\n",
    "\n",
    "    ##################\n",
    "    # YOUR CODE HERE #\n",
    "    ##################\n",
    "\n",
    "    # IMPLEMENT THE CIRCUIT BY ADDING THE GATES\n",
    "    qml.RX(theta, wires=0)\n",
    "    qml.RY(phi, wires=1)\n",
    "    qml.RZ(omega, wires=2)\n",
    "    qml.CNOT(wires=[0, 1])\n",
    "    qml.CNOT(wires=[1, 2])\n",
    "    qml.CNOT(wires=[2, 0])\n",
    "    # Here are two examples, so you can see the format:\n",
    "    # qml.CNOT(wires=[0, 1])\n",
    "    # qml.RX(theta, wires=0)\n",
    "\n",
    "    return qml.probs(wires=[0, 1, 2])\n",
    "\n",
    "# We set up some values for the input parameters\n",
    "theta, phi, omega = 0.1, 0.2, 0.3\n",
    "\n"
   ]
  },
  {
   "cell_type": "code",
   "execution_count": 60,
   "metadata": {},
   "outputs": [
    {
     "name": "stdout",
     "output_type": "stream",
     "text": [
      "0: ──RX(0.10)─╭●────╭X─┤ ╭Probs\n",
      "1: ──RY(0.20)─╰X─╭●─│──┤ ├Probs\n",
      "2: ──RZ(0.30)────╰X─╰●─┤ ╰Probs\n"
     ]
    }
   ],
   "source": [
    "# drawer = qml.draw(my_circuit)\n",
    "print(qml.draw(my_circuit)(theta, phi, omega))"
   ]
  },
  {
   "cell_type": "markdown",
   "metadata": {},
   "source": [
    "### Codercise I.2.3 — The QNode decorator"
   ]
  },
  {
   "cell_type": "markdown",
   "metadata": {},
   "source": [
    "The second way to construct a QNode in PennyLane is using a decorator. Decorating a quantum function with **@qml.qnode(dev)** will automatically produce a QNode with the same name as your function that can be run on the device dev.\n",
    "\n",
    "The quantum function below implements the circuit from the previous exercise. Apply a decorator to the quantum function to construct a QNode, then run it using the provided input parameters."
   ]
  },
  {
   "cell_type": "code",
   "execution_count": 65,
   "metadata": {},
   "outputs": [
    {
     "name": "stdout",
     "output_type": "stream",
     "text": [
      "0: ──RX(0.10)─╭●────╭X─┤ ╭Probs\n",
      "1: ──RY(0.20)─╰X─╭●─│──┤ ├Probs\n",
      "2: ──RZ(0.30)────╰X─╰●─┤ ╰Probs\n"
     ]
    }
   ],
   "source": [
    "dev = qml.device(\"default.qubit\", wires=3)\n",
    "\n",
    "##################\n",
    "# YOUR CODE HERE #\n",
    "##################\n",
    "@qml.qnode(dev)\n",
    "# DECORATE THE FUNCTION BELOW TO TURN IT INTO A QNODE\n",
    "\n",
    "\n",
    "def my_circuit(theta, phi, omega):\n",
    "    qml.RX(theta, wires=0)\n",
    "    qml.RY(phi, wires=1)\n",
    "    qml.RZ(omega, wires=2)\n",
    "    qml.CNOT(wires=[0, 1])\n",
    "    qml.CNOT(wires=[1, 2])\n",
    "    qml.CNOT(wires=[2, 0])\n",
    "    return qml.probs(wires=[0, 1, 2])\n",
    "\n",
    "\n",
    "theta, phi, omega = 0.1, 0.2, 0.3\n",
    "\n",
    "\n",
    "print(qml.draw(my_circuit)(theta, phi, omega))\n",
    "\n",
    "# RUN THE QNODE WITH THE PROVIDED PARAMETERS\n"
   ]
  },
  {
   "cell_type": "markdown",
   "metadata": {},
   "source": [
    "### Codercise I.2.4 — Circuit depth"
   ]
  },
  {
   "cell_type": "markdown",
   "metadata": {},
   "source": [
    "Remember our circuit from the previous section:\n",
    "\n",
    "![image.png](https://assets.cloud.pennylane.ai/codebook/circuit_i-2-2.svg)\n",
    "\n",
    "What is the depth of the circuit in the picture above?"
   ]
  },
  {
   "cell_type": "code",
   "execution_count": 3,
   "metadata": {},
   "outputs": [
    {
     "name": "stdout",
     "output_type": "stream",
     "text": [
      "0: ──RX(0.10)─╭●────╭X─┤ ╭Probs\n",
      "1: ──RY(0.20)─╰X─╭●─│──┤ ├Probs\n",
      "2: ──RZ(0.30)────╰X─╰●─┤ ╰Probs\n"
     ]
    }
   ],
   "source": [
    "dev = qml.device(\"default.qubit\", wires=3)\n",
    "\n",
    "\n",
    "@qml.qnode(dev)\n",
    "def my_circuit(theta, phi, omega):\n",
    "    qml.RX(theta, wires=0)\n",
    "    qml.RY(phi, wires=1)\n",
    "    qml.RZ(omega, wires=2)\n",
    "    qml.CNOT(wires=[0, 1])\n",
    "    qml.CNOT(wires=[1, 2])\n",
    "    qml.CNOT(wires=[2, 0])\n",
    "    return qml.probs(wires=[0, 1, 2])\n",
    "\n",
    "\n",
    "##################\n",
    "# YOUR CODE HERE #\n",
    "##################\n",
    "\n",
    "# FILL IN THE CORRECT CIRCUIT DEPTH\n",
    "depth = 4\n",
    "\n",
    "theta, phi, omega = 0.1, 0.2, 0.3\n",
    "\n",
    "\n",
    "print(qml.draw(my_circuit)(theta, phi, omega))"
   ]
  },
  {
   "cell_type": "markdown",
   "metadata": {},
   "source": [
    "## Unitary Matrices"
   ]
  },
  {
   "cell_type": "markdown",
   "metadata": {},
   "source": [
    "### Codercise I.3.1 — Unitaries in PennyLane"
   ]
  },
  {
   "cell_type": "markdown",
   "metadata": {},
   "source": [
    "In PennyLane, unitary operations specified by a matrix can be implemented in a quantum circuit using the QubitUnitary operation. QubitUnitary is a parametrized gate, and can be called like so:\n",
    "\n",
    "**qml.QubitUnitary(U, wires=wire)**\n",
    "\n",
    "Complete the quantum function below to create a circuit that applies U to the qubit and returns its state. (Compare this to the earlier function apply_u that you wrote before - isn't it nice to not have to worry about the matrix arithmetic?)"
   ]
  },
  {
   "cell_type": "code",
   "execution_count": 7,
   "metadata": {},
   "outputs": [
    {
     "name": "stdout",
     "output_type": "stream",
     "text": [
      "0: ──U(M0)─┤  State\n",
      "\n",
      "M0 = \n",
      "[[ 0.70710678  0.70710678]\n",
      " [ 0.70710678 -0.70710678]]\n"
     ]
    }
   ],
   "source": [
    "dev = qml.device(\"default.qubit\", wires=1)\n",
    "\n",
    "U = np.array([[1, 1], [1, -1]]) / np.sqrt(2)\n",
    "\n",
    "\n",
    "@qml.qnode(dev)\n",
    "def apply_u():\n",
    "\n",
    "    ##################\n",
    "    # YOUR CODE HERE #\n",
    "    ##################\n",
    "\n",
    "    # USE QubitUnitary TO APPLY U TO THE QUBIT\n",
    "    qml.QubitUnitary(U, wires=0)\n",
    "    # Return the state\n",
    "    return qml.state()\n",
    "\n",
    "print(qml.draw(apply_u)())"
   ]
  },
  {
   "cell_type": "markdown",
   "metadata": {},
   "source": [
    "### Codercise I.3.2 — Parametrized unitaries"
   ]
  },
  {
   "cell_type": "markdown",
   "metadata": {},
   "source": [
    "Unitary matrices can be parametrized. A single-qubit unitary operation can be expressed in terms of just three real numbers:\n",
    "![equation]()\n",
    "In PennyLane, this parametrized operation is implemented as a gate called Rot. Rot takes three parameters, which are precisely the angles in the formula above:\n",
    "\n",
    "**qml.Rot(phi, theta, omega, wires=wire)**\n",
    "\n",
    "Apply the Rot operation to a qubit using the input parameters. Then, complete the QNode to return the quantum state vector, using qml.state()."
   ]
  },
  {
   "cell_type": "code",
   "execution_count": 8,
   "metadata": {},
   "outputs": [
    {
     "name": "stdout",
     "output_type": "stream",
     "text": [
      "Quantum state vector: [0.97517033-0.19767681j 0.09933467+0.00996671j]\n"
     ]
    }
   ],
   "source": [
    "dev = qml.device(\"default.qubit\", wires=1)\n",
    "\n",
    "@qml.qnode(dev)\n",
    "def apply_u_as_rot(phi, theta, omega):\n",
    "    \"\"\"\n",
    "    Applies a Rot gate using the provided input parameters.\n",
    "\n",
    "    Args:\n",
    "        phi (float): Rotation angle around the X axis.\n",
    "        theta (float): Rotation angle around the Y axis.\n",
    "        omega (float): Rotation angle around the Z axis.\n",
    "        \n",
    "    Returns:\n",
    "        (np.tensor): The quantum state vector.\n",
    "    \"\"\"\n",
    "    # Apply the Rot gate\n",
    "    qml.Rot(phi, theta, omega, wires=0)\n",
    "    \n",
    "    # Return the quantum state vector\n",
    "    return qml.state()\n",
    "\n",
    "# Test the function\n",
    "phi, theta, omega = 0.1, 0.2, 0.3\n",
    "state_vector = apply_u_as_rot(phi, theta, omega)\n",
    "print(\"Quantum state vector:\", state_vector)\n"
   ]
  }
 ],
 "metadata": {
  "kernelspec": {
   "display_name": "pennylane-AI-env",
   "language": "python",
   "name": "python3"
  },
  "language_info": {
   "codemirror_mode": {
    "name": "ipython",
    "version": 3
   },
   "file_extension": ".py",
   "mimetype": "text/x-python",
   "name": "python",
   "nbconvert_exporter": "python",
   "pygments_lexer": "ipython3",
   "version": "3.12.4"
  }
 },
 "nbformat": 4,
 "nbformat_minor": 2
}
